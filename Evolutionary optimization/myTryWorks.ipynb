{
 "cells": [
  {
   "cell_type": "code",
   "execution_count": 3,
   "metadata": {},
   "outputs": [
    {
     "name": "stderr",
     "output_type": "stream",
     "text": [
      "2024-07-09 18:18:46.224464: I tensorflow/core/platform/cpu_feature_guard.cc:210] This TensorFlow binary is optimized to use available CPU instructions in performance-critical operations.\n",
      "To enable the following instructions: AVX2 FMA, in other operations, rebuild TensorFlow with the appropriate compiler flags.\n"
     ]
    }
   ],
   "source": [
    "import numpy as np\n",
    "import matplotlib.pyplot as plt\n",
    "from tensorflow.keras.datasets import mnist as dataset\n",
    "\n",
    "(train_inputs, train_labels), (test_inputs, test_labels) = dataset.load_data()\n",
    "# train_inputs = train_inputs.astype(\"float32\") / 255.0\n",
    "# training_data = [np.reshape(x, (784,1)) for x in train_inputs]\n",
    "\n",
    "training_data = train_inputs.reshape(-1, 784)\n",
    "\n",
    "label = np.eye(10)[train_labels]"
   ]
  },
  {
   "cell_type": "code",
   "execution_count": 4,
   "metadata": {},
   "outputs": [],
   "source": [
    "def sigmoid(x):\n",
    "    return (1.0 / (1.0 + np.exp(-x)))"
   ]
  },
  {
   "cell_type": "code",
   "execution_count": 5,
   "metadata": {},
   "outputs": [],
   "source": [
    "def loss(yhat, y):\n",
    "    m = y.shape[0]\n",
    "    epsilon = 1e-7\n",
    "    yhat = np.clip(yhat, epsilon, 1 - epsilon)\n",
    "    losses = -np.sum(y * np.log(yhat))\n",
    "    return losses/m"
   ]
  },
  {
   "cell_type": "code",
   "execution_count": 6,
   "metadata": {},
   "outputs": [
    {
     "name": "stdout",
     "output_type": "stream",
     "text": [
      "2\n"
     ]
    }
   ],
   "source": [
    "hd = [1,2,3]\n",
    "print(hd[1])"
   ]
  },
  {
   "cell_type": "code",
   "execution_count": 9,
   "metadata": {},
   "outputs": [],
   "source": [
    "class forwardPass(object):\n",
    "    def __init__(self, layer):\n",
    "        self.num_layer = len(layer)\n",
    "        self.layer = layer\n",
    "        self.w1 = np.random.randn(layer[0], layer[1]) * 0.01\n",
    "        self.b1 = np.zeros((1, layer[1]))\n",
    "        self.w2 = np.random.randn(layer[1], layer[2]) * 0.01\n",
    "        self.b2 = np.zeros((1, layer[2]))\n",
    "\n",
    "    def softmax(self, x):\n",
    "        exp_x = np.exp(x - np.max(x))\n",
    "        return exp_x / np.sum(exp_x, keepdims=True)\n",
    "    \n",
    "    def relu(self, x):\n",
    "        return np.maximum(0,x)\n",
    "    \n",
    "    def forward(self, x):\n",
    "        r1 = np.dot(x, self.w1) + self.b1\n",
    "        x1 = self.relu(r1)\n",
    "        r2 = np.dot(x1, self.w2) + self.b2\n",
    "        pred = self.softmax(r2)\n",
    "        return pred\n",
    "    \n",
    "    def get_weight(self):\n",
    "        return np.concatenate([self.w1.ravel(), \n",
    "                               self.b1.ravel(), \n",
    "                               self.w2.ravel(), \n",
    "                               self.b2.ravel()])\n",
    "    \n",
    "    def set_weight(self, weights):\n",
    "        sizes = [self.w1.size, self.b1.size, \n",
    "                 self.w2.size, self.b2.size]\n",
    "        self.w1 = weights[:sizes[0]].reshape(self.w1.shape)\n",
    "        self.b1 = weights[sizes[0]:sizes[0]+sizes[1]].reshape(self.b1.shape)\n",
    "        self.w2 = weights[sizes[0]+sizes[1]:sizes[0]+\n",
    "                          sizes[1]+sizes[2]].reshape(self.w2.shape)\n",
    "        self.b2 = weights[-sizes[3]:].reshape(self.b2.shape)\n",
    "\n",
    "    def nevo(self):\n",
    "        sigma = 1e-3\n",
    "        theta = self.get_weight()\n",
    "\n",
    "        for generation in range(100):\n",
    "            directions = []\n",
    "            loss_list = []\n",
    "            accuracy = []\n",
    "            for individual in range(2500):\n",
    "                # generate random pertubation\n",
    "                epsilon =  np.random.normal(0, sigma, size=theta.shape)\n",
    "                losses = []\n",
    "                for batch in range(15):\n",
    "                    # evaluate on a batch of random images\n",
    "                    idx = np.random.randint(0, len(training_data) - 1)\n",
    "                    sample = training_data[idx]\n",
    "                    # set weights an compute forwardpass + loss\n",
    "                    self.set_weight(theta + epsilon)\n",
    "                    pred = self.forward(sample)\n",
    "                    this_loss = loss(pred, label[idx])\n",
    "                    \n",
    "                    losses.append(this_loss)\n",
    "                    accuracy.append(np.argmax(pred) == train_labels[idx])\n",
    "            \n",
    "                directions.append(epsilon)\n",
    "                loss_list.append(np.mean(losses))\n",
    "\n",
    "            directions = np.array(directions)\n",
    "            loss_list = np.array(loss_list)\n",
    "            \n",
    "            # normalize to -0.5 to 0.5\n",
    "            fitness = ((loss_list - loss_list.min()) / (loss_list.max() - loss_list.min())) - 0.5\n",
    "\n",
    "            # estimate gradient by multiplying the random directions with the found loss decrease\n",
    "            #  note that this includes the directions that turned out to increase the loss, but\n",
    "            #  since the values are normalized between -0.5 and +0.5, they will end up with a \n",
    "            #  negative sign so everything works out\n",
    "            gradient = np.mean(np.multiply(directions.T, fitness), axis=1) / sigma\n",
    "            # bonus question: why devide by sigma? \n",
    "\n",
    "            # use the gradient for gradient descent\n",
    "            theta = theta - 0.1 * gradient\n",
    "\n",
    "            # print(len(theta))\n",
    "\n",
    "            print(f\"Iteration: {generation+1}/100, mean accuracy: {np.mean(accuracy):.4f} \\n\")\n",
    "\n",
    "\n",
    "        "
   ]
  },
  {
   "cell_type": "code",
   "execution_count": 10,
   "metadata": {},
   "outputs": [
    {
     "name": "stdout",
     "output_type": "stream",
     "text": [
      "Iteration: 1/100, mean accuracy: 0.0806 \n",
      "\n",
      "Iteration: 2/100, mean accuracy: 0.0793 \n",
      "\n",
      "Iteration: 3/100, mean accuracy: 0.0818 \n",
      "\n",
      "Iteration: 4/100, mean accuracy: 0.0876 \n",
      "\n",
      "Iteration: 5/100, mean accuracy: 0.0842 \n",
      "\n",
      "Iteration: 6/100, mean accuracy: 0.0885 \n",
      "\n",
      "Iteration: 7/100, mean accuracy: 0.0897 \n",
      "\n",
      "Iteration: 8/100, mean accuracy: 0.1001 \n",
      "\n",
      "Iteration: 9/100, mean accuracy: 0.1034 \n",
      "\n",
      "Iteration: 10/100, mean accuracy: 0.1108 \n",
      "\n",
      "Iteration: 11/100, mean accuracy: 0.1209 \n",
      "\n",
      "Iteration: 12/100, mean accuracy: 0.1318 \n",
      "\n"
     ]
    },
    {
     "ename": "KeyboardInterrupt",
     "evalue": "",
     "output_type": "error",
     "traceback": [
      "\u001b[0;31m---------------------------------------------------------------------------\u001b[0m",
      "\u001b[0;31mKeyboardInterrupt\u001b[0m                         Traceback (most recent call last)",
      "Cell \u001b[0;32mIn[10], line 2\u001b[0m\n\u001b[1;32m      1\u001b[0m ls \u001b[38;5;241m=\u001b[39m forwardPass([\u001b[38;5;241m784\u001b[39m, \u001b[38;5;241m100\u001b[39m, \u001b[38;5;241m10\u001b[39m])\n\u001b[0;32m----> 2\u001b[0m \u001b[43mls\u001b[49m\u001b[38;5;241;43m.\u001b[39;49m\u001b[43mnevo\u001b[49m\u001b[43m(\u001b[49m\u001b[43m)\u001b[49m\n",
      "Cell \u001b[0;32mIn[9], line 76\u001b[0m, in \u001b[0;36mforwardPass.nevo\u001b[0;34m(self)\u001b[0m\n\u001b[1;32m     70\u001b[0m fitness \u001b[38;5;241m=\u001b[39m ((loss_list \u001b[38;5;241m-\u001b[39m loss_list\u001b[38;5;241m.\u001b[39mmin()) \u001b[38;5;241m/\u001b[39m (loss_list\u001b[38;5;241m.\u001b[39mmax() \u001b[38;5;241m-\u001b[39m loss_list\u001b[38;5;241m.\u001b[39mmin())) \u001b[38;5;241m-\u001b[39m \u001b[38;5;241m0.5\u001b[39m\n\u001b[1;32m     72\u001b[0m \u001b[38;5;66;03m# estimate gradient by multiplying the random directions with the found loss decrease\u001b[39;00m\n\u001b[1;32m     73\u001b[0m \u001b[38;5;66;03m#  note that this includes the directions that turned out to increase the loss, but\u001b[39;00m\n\u001b[1;32m     74\u001b[0m \u001b[38;5;66;03m#  since the values are normalized between -0.5 and +0.5, they will end up with a \u001b[39;00m\n\u001b[1;32m     75\u001b[0m \u001b[38;5;66;03m#  negative sign so everything works out\u001b[39;00m\n\u001b[0;32m---> 76\u001b[0m gradient \u001b[38;5;241m=\u001b[39m np\u001b[38;5;241m.\u001b[39mmean(\u001b[43mnp\u001b[49m\u001b[38;5;241;43m.\u001b[39;49m\u001b[43mmultiply\u001b[49m\u001b[43m(\u001b[49m\u001b[43mdirections\u001b[49m\u001b[38;5;241;43m.\u001b[39;49m\u001b[43mT\u001b[49m\u001b[43m,\u001b[49m\u001b[43m \u001b[49m\u001b[43mfitness\u001b[49m\u001b[43m)\u001b[49m, axis\u001b[38;5;241m=\u001b[39m\u001b[38;5;241m1\u001b[39m) \u001b[38;5;241m/\u001b[39m sigma\n\u001b[1;32m     77\u001b[0m \u001b[38;5;66;03m# bonus question: why devide by sigma? \u001b[39;00m\n\u001b[1;32m     78\u001b[0m \n\u001b[1;32m     79\u001b[0m \u001b[38;5;66;03m# use the gradient for gradient descent\u001b[39;00m\n\u001b[1;32m     80\u001b[0m theta \u001b[38;5;241m=\u001b[39m theta \u001b[38;5;241m-\u001b[39m \u001b[38;5;241m0.1\u001b[39m \u001b[38;5;241m*\u001b[39m gradient\n",
      "\u001b[0;31mKeyboardInterrupt\u001b[0m: "
     ]
    }
   ],
   "source": [
    "ls = forwardPass([784, 100, 10])\n",
    "ls.nevo()"
   ]
  }
 ],
 "metadata": {
  "kernelspec": {
   "display_name": "Python 3",
   "language": "python",
   "name": "python3"
  },
  "language_info": {
   "codemirror_mode": {
    "name": "ipython",
    "version": 3
   },
   "file_extension": ".py",
   "mimetype": "text/x-python",
   "name": "python",
   "nbconvert_exporter": "python",
   "pygments_lexer": "ipython3",
   "version": "3.12.3"
  }
 },
 "nbformat": 4,
 "nbformat_minor": 2
}
