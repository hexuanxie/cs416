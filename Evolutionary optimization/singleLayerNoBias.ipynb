{
 "cells": [
  {
   "cell_type": "code",
   "execution_count": 1,
   "metadata": {},
   "outputs": [
    {
     "name": "stderr",
     "output_type": "stream",
     "text": [
      "2024-07-19 09:56:26.957971: I tensorflow/core/platform/cpu_feature_guard.cc:210] This TensorFlow binary is optimized to use available CPU instructions in performance-critical operations.\n",
      "To enable the following instructions: AVX2 FMA, in other operations, rebuild TensorFlow with the appropriate compiler flags.\n"
     ]
    }
   ],
   "source": [
    "import numpy as np\n",
    "import matplotlib as plt\n",
    "import random\n",
    "\n",
    "import keras\n",
    "(train_inputs, train_labels), (test_inputs, test_labels) = keras.datasets.mnist.load_data()\n",
    "\n",
    "train_inputs = train_inputs.astype(\"float32\") / 255.0\n",
    "test_inputs = test_inputs.astype(\"float32\") / 255.0\n",
    "\n",
    "training_data = [np.array(x.flatten()) for x in train_inputs]\n",
    "test_data = [np.array(x.flatten()) for x in test_inputs]"
   ]
  },
  {
   "cell_type": "code",
   "execution_count": 2,
   "metadata": {},
   "outputs": [],
   "source": [
    "def loss(yhat, y):\n",
    "    m = y.shape[0]\n",
    "    epsilon = 1e-7\n",
    "    yhat = np.clip(yhat, epsilon, 1 - epsilon)\n",
    "    losses = -np.sum(y * np.log(yhat))\n",
    "    return losses/m"
   ]
  },
  {
   "cell_type": "code",
   "execution_count": 3,
   "metadata": {},
   "outputs": [],
   "source": [
    "label = np.eye(10)[train_labels]"
   ]
  },
  {
   "cell_type": "code",
   "execution_count": 4,
   "metadata": {},
   "outputs": [],
   "source": [
    "def fitness(loss_list):\n",
    "    return (((loss_list - loss_list.min()) / (loss_list.max() - loss_list.min())) - 0.5).flatten()"
   ]
  },
  {
   "cell_type": "code",
   "execution_count": 5,
   "metadata": {},
   "outputs": [],
   "source": [
    "class oneLayerNN(object):\n",
    "    def __init__(self, layer):\n",
    "        self.layer = layer\n",
    "        self.weight = np.random.rand(layer[0],layer[1]) * 0.001\n",
    "        self.w_len = len(self.weight)\n",
    "\n",
    "    def softmax(self, x):\n",
    "        exp_x = np.exp(x - np.max(x))\n",
    "        return exp_x / np.sum(exp_x, keepdims=True)\n",
    "    \n",
    "    def forward(self, a):\n",
    "        return self.softmax(np.dot(a, self.weight))\n",
    "    \n",
    "    def nevo(self):\n",
    "        sigma = 1e-3\n",
    "        theta = self.weight.ravel()\n",
    "        # print(self.weight)\n",
    "        for generation in range(100):\n",
    "            directions = []\n",
    "            loss_list = []\n",
    "            accuracy = []\n",
    "            for individual in range(2500):\n",
    "                # directions = []\n",
    "                epsilon =  np.random.normal(0, sigma, size=theta.shape)\n",
    "                losses = []\n",
    "                for batch in range(15):\n",
    "                    # dd = []\n",
    "                    idx = np.random.randint(0, len(training_data) - 1)\n",
    "                    sample = training_data[idx]\n",
    "                    self.weight = (theta + epsilon).reshape(self.weight.shape)\n",
    "\n",
    "                    pred = self.forward(sample)\n",
    "                    this_loss = loss(pred, label[idx])\n",
    "                    \n",
    "                    losses.append(this_loss)\n",
    "                    accuracy.append(np.argmax(pred) == train_labels[idx])\n",
    "            \n",
    "                directions.append(epsilon)\n",
    "                loss_list.append(np.mean(losses))\n",
    "\n",
    "            \n",
    "            directions = np.array(directions)\n",
    "            loss_list = np.array(loss_list)\n",
    "            \n",
    "            # normalize to -0.5 to 0.5\n",
    "            fitness = ((loss_list - loss_list.min()) / (loss_list.max() - loss_list.min())) - 0.5\n",
    "            # fitness = fitness.flatten()\n",
    "\n",
    "            # estimate gradient by multiplying the random directions with the found loss decrease\n",
    "            #  note that this includes the directions that turned out to increase the loss, but\n",
    "            #  since the values are normalized between -0.5 and +0.5, they will end up with a \n",
    "            #  negative sign so everything works out\n",
    "            gradient = np.mean(np.multiply(directions.T, fitness), axis =1) / sigma\n",
    "            # bonus question: why devide by sigma? \n",
    "\n",
    "            # use the gradient for gradient descent\n",
    "            theta = theta - 0.1 * gradient\n",
    "\n",
    "            # print(len(theta))\n",
    "\n",
    "            print(f\"Iteration: {generation+1}/100, mean accuracy: {np.mean(accuracy):.4f} \\n\")\n",
    "\n"
   ]
  },
  {
   "cell_type": "code",
   "execution_count": 8,
   "metadata": {},
   "outputs": [
    {
     "data": {
      "text/plain": [
       "array([0.10015227, 0.10047147, 0.10042998, 0.09989981, 0.09999721,\n",
       "       0.09972166, 0.10002837, 0.09957569, 0.09993578, 0.09978774])"
      ]
     },
     "execution_count": 8,
     "metadata": {},
     "output_type": "execute_result"
    }
   ],
   "source": [
    "ls = oneLayerNN([784, 10])\n",
    "ls.forward(training_data[1])\n",
    "# print(train_labels[1])\n",
    "# ls.nevo()"
   ]
  }
 ],
 "metadata": {
  "kernelspec": {
   "display_name": "Python 3",
   "language": "python",
   "name": "python3"
  },
  "language_info": {
   "codemirror_mode": {
    "name": "ipython",
    "version": 3
   },
   "file_extension": ".py",
   "mimetype": "text/x-python",
   "name": "python",
   "nbconvert_exporter": "python",
   "pygments_lexer": "ipython3",
   "version": "3.12.3"
  }
 },
 "nbformat": 4,
 "nbformat_minor": 2
}
