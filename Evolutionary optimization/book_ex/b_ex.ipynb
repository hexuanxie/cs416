{
 "cells": [
  {
   "cell_type": "code",
   "execution_count": 1,
   "metadata": {},
   "outputs": [],
   "source": [
    "import mnist_loader\n",
    "training_data, validation_data, test_data = mnist_loader.load_data_wrapper()"
   ]
  },
  {
   "cell_type": "code",
   "execution_count": 2,
   "metadata": {},
   "outputs": [
    {
     "name": "stderr",
     "output_type": "stream",
     "text": [
      "/Users/hexuanxie/Evolutionary optimization/book_ex/network.py:134: SyntaxWarning: invalid escape sequence '\\p'\n",
      "  \"\"\"Return the vector of partial derivatives \\partial C_x /\n"
     ]
    }
   ],
   "source": [
    "import network\n",
    "net = network.Network([784, 30, 10])"
   ]
  },
  {
   "cell_type": "code",
   "execution_count": 3,
   "metadata": {},
   "outputs": [
    {
     "name": "stdout",
     "output_type": "stream",
     "text": [
      "Epoch 0: 9079 / 10000, took 9.02 seconds\n",
      "Epoch 1: 9234 / 10000, took 9.40 seconds\n",
      "Epoch 2: 9262 / 10000, took 12.51 seconds\n",
      "Epoch 3: 9324 / 10000, took 17.69 seconds\n",
      "Epoch 4: 9344 / 10000, took 6.77 seconds\n",
      "Epoch 5: 9385 / 10000, took 7.04 seconds\n",
      "Epoch 6: 9408 / 10000, took 6.63 seconds\n",
      "Epoch 7: 9442 / 10000, took 7.06 seconds\n",
      "Epoch 8: 9427 / 10000, took 6.77 seconds\n",
      "Epoch 9: 9432 / 10000, took 6.58 seconds\n",
      "Epoch 10: 9459 / 10000, took 6.56 seconds\n",
      "Epoch 11: 9454 / 10000, took 6.68 seconds\n",
      "Epoch 12: 9469 / 10000, took 6.33 seconds\n",
      "Epoch 13: 9480 / 10000, took 6.55 seconds\n",
      "Epoch 14: 9477 / 10000, took 6.90 seconds\n",
      "Epoch 15: 9456 / 10000, took 6.42 seconds\n",
      "Epoch 16: 9448 / 10000, took 6.56 seconds\n",
      "Epoch 17: 9502 / 10000, took 6.64 seconds\n",
      "Epoch 18: 9444 / 10000, took 6.51 seconds\n",
      "Epoch 19: 9492 / 10000, took 6.71 seconds\n",
      "Epoch 20: 9479 / 10000, took 6.71 seconds\n",
      "Epoch 21: 9506 / 10000, took 6.31 seconds\n",
      "Epoch 22: 9482 / 10000, took 6.66 seconds\n",
      "Epoch 23: 9484 / 10000, took 6.72 seconds\n",
      "Epoch 24: 9511 / 10000, took 6.43 seconds\n",
      "Epoch 25: 9467 / 10000, took 6.67 seconds\n",
      "Epoch 26: 9483 / 10000, took 6.63 seconds\n",
      "Epoch 27: 9503 / 10000, took 6.44 seconds\n",
      "Epoch 28: 9508 / 10000, took 6.77 seconds\n",
      "Epoch 29: 9483 / 10000, took 6.66 seconds\n"
     ]
    }
   ],
   "source": [
    "net.SGD(training_data, 30, 10, 3.0, test_data=test_data)"
   ]
  },
  {
   "cell_type": "code",
   "execution_count": null,
   "metadata": {},
   "outputs": [],
   "source": []
  }
 ],
 "metadata": {
  "kernelspec": {
   "display_name": "Python 3",
   "language": "python",
   "name": "python3"
  },
  "language_info": {
   "codemirror_mode": {
    "name": "ipython",
    "version": 3
   },
   "file_extension": ".py",
   "mimetype": "text/x-python",
   "name": "python",
   "nbconvert_exporter": "python",
   "pygments_lexer": "ipython3",
   "version": "3.12.3"
  }
 },
 "nbformat": 4,
 "nbformat_minor": 2
}
